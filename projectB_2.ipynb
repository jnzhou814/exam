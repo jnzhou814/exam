{
 "cells": [
  {
   "cell_type": "code",
   "execution_count": 1,
   "metadata": {},
   "outputs": [],
   "source": [
    "import pandas as pd\n",
    "import numpy as np\n",
    "import matplotlib.pyplot as plt\n",
    "from efficient_apriori import apriori"
   ]
  },
  {
   "cell_type": "code",
   "execution_count": 2,
   "metadata": {},
   "outputs": [],
   "source": [
    "#读取表格\n",
    "order_data=pd.read_csv(\"D://Data_anasyls//ProjectB/订单表.csv\",encoding='gbk')"
   ]
  },
  {
   "cell_type": "code",
   "execution_count": 3,
   "metadata": {},
   "outputs": [
    {
     "data": {
      "text/plain": [
       "<bound method NDFrame.head of             订单日期    年份  订单数量  产品ID              产品型号名称   产品名称 产品类别    单价  \\\n",
       "0       2016/1/1  2016     1   528  Mountain Tire Tube  车胎和内胎   配件  4.99   \n",
       "1       2016/1/2  2016     1   528  Mountain Tire Tube  车胎和内胎   配件  4.99   \n",
       "2       2016/1/2  2016     1   528  Mountain Tire Tube  车胎和内胎   配件  4.99   \n",
       "3       2016/1/5  2016     1   528  Mountain Tire Tube  车胎和内胎   配件  4.99   \n",
       "4       2016/1/6  2016     1   528  Mountain Tire Tube  车胎和内胎   配件  4.99   \n",
       "...          ...   ...   ...   ...                 ...    ...  ...   ...   \n",
       "60393  2016/7/28  2016     1   528  Mountain Tire Tube  车胎和内胎   配件  4.99   \n",
       "60394  2016/7/29  2016     1   528  Mountain Tire Tube  车胎和内胎   配件  4.99   \n",
       "60395  2016/7/29  2016     1   528  Mountain Tire Tube  车胎和内胎   配件  4.99   \n",
       "60396  2016/7/30  2016     1   528  Mountain Tire Tube  车胎和内胎   配件  4.99   \n",
       "60397  2016/7/30  2016     1   528  Mountain Tire Tube  车胎和内胎   配件  4.99   \n",
       "\n",
       "       销售金额    产品成本      利润   客户ID  交易类型  销售区域ID 销售大区  国家    区域  \n",
       "0      4.99  1.8663  3.1237  12411     1       4  西南区  中国  大中华区  \n",
       "1      4.99  1.8663  3.1237  16720     1       4  西南区  中国  大中华区  \n",
       "2      4.99  1.8663  3.1237  25967     1       4  西南区  中国  大中华区  \n",
       "3      4.99  1.8663  3.1237  23689     1       4  西南区  中国  大中华区  \n",
       "4      4.99  1.8663  3.1237  12978     1       4  西南区  中国  大中华区  \n",
       "...     ...     ...     ...    ...   ...     ...  ...  ..   ...  \n",
       "60393  4.99  1.8663  3.1237  25177     1       6   韩国  韩国    韩国  \n",
       "60394  4.99  1.8663  3.1237  25066     1       6   韩国  韩国    韩国  \n",
       "60395  4.99  1.8663  3.1237  21364     1       6   韩国  韩国    韩国  \n",
       "60396  4.99  1.8663  3.1237  13423     1       6   韩国  韩国    韩国  \n",
       "60397  4.99  1.8663  3.1237  13175     1       6   韩国  韩国    韩国  \n",
       "\n",
       "[60398 rows x 17 columns]>"
      ]
     },
     "execution_count": 3,
     "metadata": {},
     "output_type": "execute_result"
    }
   ],
   "source": [
    "order_data.head"
   ]
  },
  {
   "cell_type": "code",
   "execution_count": 4,
   "metadata": {},
   "outputs": [],
   "source": [
    "#根据id将产品名称分组，可以获得每一个ID购买的产品种类，使用了unique函数\n",
    "grouped_by_id=order_data[\"产品名称\"].groupby([order_data[\"客户ID\"]]).unique()"
   ]
  },
  {
   "cell_type": "code",
   "execution_count": 5,
   "metadata": {},
   "outputs": [],
   "source": [
    "transactions = list(grouped_by_id.values)"
   ]
  },
  {
   "cell_type": "code",
   "execution_count": 6,
   "metadata": {},
   "outputs": [],
   "source": [
    "itemsets,rules= apriori(transactions,min_support=0.03,min_confidence=0.1,max_length=2)"
   ]
  },
  {
   "cell_type": "code",
   "execution_count": 7,
   "metadata": {},
   "outputs": [
    {
     "name": "stdout",
     "output_type": "stream",
     "text": [
      "----------------------------------\n",
      "1\n",
      "频繁项集排序:\n",
      " [(('车胎和内胎',), 8490), (('公路自行车',), 6397), (('头盔',), 5960), (('水壶和水壶架',), 4548), (('山地自行车',), 4089), (('骑行服',), 3192), (('旅行自行车',), 2143), (('帽子',), 2132), (('挡泥板',), 2110), (('手套',), 1376), (('短裤',), 1019), (('清洁剂',), 875), (('水袋背包',), 719), (('袜子',), 559), (('背心',), 557)]\n",
      "----------------------------------\n",
      "2\n",
      "频繁项集排序:\n",
      " [(('头盔', '车胎和内胎'), 2921), (('公路自行车', '山地自行车'), 2053), (('公路自行车', '头盔'), 2051), (('公路自行车', '水壶和水壶架'), 1590), (('头盔', '水壶和水壶架'), 1453), (('公路自行车', '车胎和内胎'), 1450), (('头盔', '山地自行车'), 1388), (('山地自行车', '旅行自行车'), 1246), (('山地自行车', '水壶和水壶架'), 1246), (('公路自行车', '骑行服'), 1154), (('车胎和内胎', '骑行服'), 1150), (('山地自行车', '车胎和内胎'), 1107), (('头盔', '旅行自行车'), 1058), (('头盔', '骑行服'), 923), (('山地自行车', '挡泥板'), 898), (('水壶和水壶架', '车胎和内胎'), 812), (('旅行自行车', '水壶和水壶架'), 780), (('水壶和水壶架', '骑行服'), 774), (('帽子', '车胎和内胎'), 760), (('帽子', '水壶和水壶架'), 746), (('头盔', '挡泥板'), 742), (('挡泥板', '车胎和内胎'), 723), (('帽子', '骑行服'), 689), (('头盔', '手套'), 687), (('山地自行车', '骑行服'), 679), (('头盔', '帽子'), 678), (('手套', '车胎和内胎'), 677), (('公路自行车', '帽子'), 673)]\n",
      "----------------------------------\n",
      "关联规则：\n",
      " [{山地自行车} -> {头盔}, {头盔} -> {山地自行车}, {挡泥板} -> {头盔}, {头盔} -> {挡泥板}, {旅行自行车} -> {头盔}, {头盔} -> {旅行自行车}, {车胎和内胎} -> {头盔}, {头盔} -> {车胎和内胎}, {骑行服} -> {头盔}, {头盔} -> {骑行服}, {挡泥板} -> {山地自行车}, {山地自行车} -> {挡泥板}, {旅行自行车} -> {山地自行车}, {山地自行车} -> {旅行自行车}, {车胎和内胎} -> {山地自行车}, {山地自行车} -> {车胎和内胎}, {骑行服} -> {山地自行车}, {山地自行车} -> {骑行服}, {挡泥板} -> {车胎和内胎}, {骑行服} -> {车胎和内胎}, {车胎和内胎} -> {骑行服}, {头盔} -> {公路自行车}, {公路自行车} -> {头盔}, {山地自行车} -> {公路自行车}, {公路自行车} -> {山地自行车}, {帽子} -> {公路自行车}, {公路自行车} -> {帽子}, {水壶和水壶架} -> {公路自行车}, {公路自行车} -> {水壶和水壶架}, {骑行服} -> {公路自行车}, {公路自行车} -> {骑行服}, {帽子} -> {头盔}, {头盔} -> {帽子}, {水壶和水壶架} -> {头盔}, {头盔} -> {水壶和水壶架}, {水壶和水壶架} -> {山地自行车}, {山地自行车} -> {水壶和水壶架}, {水壶和水壶架} -> {帽子}, {帽子} -> {水壶和水壶架}, {骑行服} -> {帽子}, {帽子} -> {骑行服}, {骑行服} -> {水壶和水壶架}, {水壶和水壶架} -> {骑行服}, {帽子} -> {车胎和内胎}, {水壶和水壶架} -> {旅行自行车}, {旅行自行车} -> {水壶和水壶架}, {水壶和水壶架} -> {车胎和内胎}, {手套} -> {头盔}, {头盔} -> {手套}, {手套} -> {车胎和内胎}, {车胎和内胎} -> {公路自行车}, {公路自行车} -> {车胎和内胎}]\n"
     ]
    }
   ],
   "source": [
    "for itemset in itemsets.items():\n",
    "    print(\"----------------------------------\")\n",
    "    print(itemset[0])\n",
    "    sorted_itemset=sorted(itemset[1].items(),key=lambda x: x[1],reverse=True)\n",
    "    print(\"频繁项集排序:\\n\",sorted_itemset)\n",
    "print(\"----------------------------------\")\n",
    "print(\"关联规则：\\n\", rules)"
   ]
  },
  {
   "cell_type": "code",
   "execution_count": 8,
   "metadata": {},
   "outputs": [],
   "source": [
    "#这个可以查询到每个产品的销售总金额\n",
    "grouped_by_xiaoshoue=order_data[\"销售金额\"].groupby([order_data[\"产品名称\"]]).sum()"
   ]
  },
  {
   "cell_type": "code",
   "execution_count": 9,
   "metadata": {},
   "outputs": [],
   "source": [
    "#可以返回同时购买两个物品的人员ID的函数\n",
    "def ID_both_buy(set_both):\n",
    "    temp_id=[]\n",
    "    for k,v in grouped_by_id.items():\n",
    "        if set_both.issubset(set(v)):\n",
    "            temp_id.append(k)\n",
    "    return temp_id"
   ]
  },
  {
   "cell_type": "code",
   "execution_count": 10,
   "metadata": {},
   "outputs": [],
   "source": [
    "#一个根据人员ID（数组）获取销售金额的函数\n",
    "def get_sum(dataframe,Kehu_ID,Mingzi):\n",
    "    sum_xiaoshou=0\n",
    "    for item in Kehu_ID:\n",
    "        some=dataframe[(dataframe[\"客户ID\"]==item)&(dataframe[\"产品名称\"]==Mingzi)]\n",
    "        some_num=some[\"销售金额\"].sum()\n",
    "        sum_xiaoshou+=some_num\n",
    "    return sum_xiaoshou"
   ]
  },
  {
   "cell_type": "code",
   "execution_count": 11,
   "metadata": {},
   "outputs": [
    {
     "name": "stdout",
     "output_type": "stream",
     "text": [
      "公路自行车 与其他产品的交集\n",
      "xxxxxxxxxxxxxxxxxxxxxxxxxxxxxxxxxxxxxxxxxxxxxxxxxx\n",
      "A产品的客户数                   3192\n",
      "A产品的名称                    骑行服       \n",
      "产品A的销售额                   172950.68\n",
      "A产品的名称                    骑行服       \n",
      "购买A的客户购买B的客户数             1154\n",
      "购买A的客户购买B的金额              2456371.25\n",
      "客户占比                      0.36\n",
      "--------------------------------------------------\n",
      "A产品的客户数                   5960\n",
      "A产品的名称                    头盔        \n",
      "产品A的销售额                   225335.60\n",
      "A产品的名称                    头盔        \n",
      "购买A的客户购买B的客户数             2051\n",
      "购买A的客户购买B的金额              4659745.50\n",
      "客户占比                      0.34\n",
      "--------------------------------------------------\n",
      "A产品的客户数                   8490\n",
      "A产品的名称                    车胎和内胎     \n",
      "产品A的销售额                   245529.32\n",
      "A产品的名称                    车胎和内胎     \n",
      "购买A的客户购买B的客户数             1450\n",
      "购买A的客户购买B的金额              3370199.18\n",
      "客户占比                      0.17\n",
      "--------------------------------------------------\n",
      "A产品的客户数                   4089\n",
      "A产品的名称                    山地自行车     \n",
      "产品A的销售额                   9952759.56\n",
      "A产品的名称                    山地自行车     \n",
      "购买A的客户购买B的客户数             2053\n",
      "购买A的客户购买B的金额              4660286.66\n",
      "客户占比                      0.50\n",
      "--------------------------------------------------\n",
      "A产品的客户数                   2132\n",
      "A产品的名称                    帽子        \n",
      "产品A的销售额                   19688.10\n",
      "A产品的名称                    帽子        \n",
      "购买A的客户购买B的客户数             673\n",
      "购买A的客户购买B的金额              1447043.26\n",
      "客户占比                      0.32\n",
      "--------------------------------------------------\n",
      "A产品的客户数                   4548\n",
      "A产品的名称                    水壶和水壶架    \n",
      "产品A的销售额                   56798.19\n",
      "A产品的名称                    水壶和水壶架    \n",
      "购买A的客户购买B的客户数             1590\n",
      "购买A的客户购买B的金额              3486132.53\n",
      "客户占比                      0.35\n",
      "--------------------------------------------------\n"
     ]
    }
   ],
   "source": [
    "#测试为公路自行车为产品B\n",
    "productB=\"公路自行车\"\n",
    "test=tuple((productB,))\n",
    "print(productB,\"与其他产品的交集\")\n",
    "print(\"x\"*50)\n",
    "new_df=pd.DataFrame(columns=(\"产品B名称\",\"产品A名称\",\"产品A客户数\",\"产品A销售额\",\"同时买A和B数量\",\"产品B销售额\",\"关联客户比\"))\n",
    "for k,v in itemsets[1].items():\n",
    "    new_tuple=test+tuple(k)\n",
    "    for k1,v1 in itemsets[2].items():\n",
    "        if set(new_tuple)==set(k1):\n",
    "            #print(k,v)\n",
    "            A_sales_sum=grouped_by_xiaoshoue[k[0]]\n",
    "            #获取同时买两个物品的人员的ID\n",
    "            ID_person=ID_both_buy(set(new_tuple))\n",
    "            #通过ID获得B物品的销售额\n",
    "            B_sales_sum=get_sum(order_data,ID_person,\"公路自行车\")\n",
    "            \n",
    "            print(\"{:<25s} {:<}\".format(\"A产品的客户数\",v))\n",
    "            print(\"{:<25s} {:<10s}\".format(\"A产品的名称\",k[0]))\n",
    "            print(\"{:<25s} {:.2f}\".format(\"产品A的销售额\",A_sales_sum))\n",
    "            print(\"{:<25s} {:<10s}\".format(\"A产品的名称\",k[0]))\n",
    "            print(\"{:<25s} {:<}\".format(\"购买A的客户购买B的客户数\",v1))\n",
    "            print(\"{:<25s} {:.2f}\".format(\"购买A的客户购买B的金额\",B_sales_sum))\n",
    "            print(\"{:<25s} {:.2f}\".format(\"客户占比\",v1/v))\n",
    "            print(\"-\"*50)\n",
    "            new_df=new_df.append([{\"产品B名称\":productB,\"产品A名称\":k[0],\"产品A客户数\":v,\"产品A销售额\":A_sales_sum,\"同时买A和B数量\":v1,\"产品B销售额\":B_sales_sum,\"关联客户比\":v1/v}],ignore_index=True)"
   ]
  },
  {
   "cell_type": "code",
   "execution_count": 12,
   "metadata": {},
   "outputs": [
    {
     "data": {
      "text/html": [
       "<div>\n",
       "<style scoped>\n",
       "    .dataframe tbody tr th:only-of-type {\n",
       "        vertical-align: middle;\n",
       "    }\n",
       "\n",
       "    .dataframe tbody tr th {\n",
       "        vertical-align: top;\n",
       "    }\n",
       "\n",
       "    .dataframe thead th {\n",
       "        text-align: right;\n",
       "    }\n",
       "</style>\n",
       "<table border=\"1\" class=\"dataframe\">\n",
       "  <thead>\n",
       "    <tr style=\"text-align: right;\">\n",
       "      <th></th>\n",
       "      <th>产品B名称</th>\n",
       "      <th>产品A名称</th>\n",
       "      <th>产品A客户数</th>\n",
       "      <th>产品A销售额</th>\n",
       "      <th>同时买A和B数量</th>\n",
       "      <th>产品B销售额</th>\n",
       "      <th>关联客户比</th>\n",
       "    </tr>\n",
       "  </thead>\n",
       "  <tbody>\n",
       "    <tr>\n",
       "      <th>0</th>\n",
       "      <td>公路自行车</td>\n",
       "      <td>骑行服</td>\n",
       "      <td>3192</td>\n",
       "      <td>1.729507e+05</td>\n",
       "      <td>1154</td>\n",
       "      <td>2.456371e+06</td>\n",
       "      <td>0.361529</td>\n",
       "    </tr>\n",
       "    <tr>\n",
       "      <th>1</th>\n",
       "      <td>公路自行车</td>\n",
       "      <td>头盔</td>\n",
       "      <td>5960</td>\n",
       "      <td>2.253356e+05</td>\n",
       "      <td>2051</td>\n",
       "      <td>4.659746e+06</td>\n",
       "      <td>0.344128</td>\n",
       "    </tr>\n",
       "    <tr>\n",
       "      <th>2</th>\n",
       "      <td>公路自行车</td>\n",
       "      <td>车胎和内胎</td>\n",
       "      <td>8490</td>\n",
       "      <td>2.455293e+05</td>\n",
       "      <td>1450</td>\n",
       "      <td>3.370199e+06</td>\n",
       "      <td>0.170789</td>\n",
       "    </tr>\n",
       "    <tr>\n",
       "      <th>3</th>\n",
       "      <td>公路自行车</td>\n",
       "      <td>山地自行车</td>\n",
       "      <td>4089</td>\n",
       "      <td>9.952760e+06</td>\n",
       "      <td>2053</td>\n",
       "      <td>4.660287e+06</td>\n",
       "      <td>0.502079</td>\n",
       "    </tr>\n",
       "    <tr>\n",
       "      <th>4</th>\n",
       "      <td>公路自行车</td>\n",
       "      <td>帽子</td>\n",
       "      <td>2132</td>\n",
       "      <td>1.968810e+04</td>\n",
       "      <td>673</td>\n",
       "      <td>1.447043e+06</td>\n",
       "      <td>0.315666</td>\n",
       "    </tr>\n",
       "    <tr>\n",
       "      <th>5</th>\n",
       "      <td>公路自行车</td>\n",
       "      <td>水壶和水壶架</td>\n",
       "      <td>4548</td>\n",
       "      <td>5.679819e+04</td>\n",
       "      <td>1590</td>\n",
       "      <td>3.486133e+06</td>\n",
       "      <td>0.349604</td>\n",
       "    </tr>\n",
       "  </tbody>\n",
       "</table>\n",
       "</div>"
      ],
      "text/plain": [
       "   产品B名称   产品A名称 产品A客户数        产品A销售额 同时买A和B数量        产品B销售额     关联客户比\n",
       "0  公路自行车     骑行服   3192  1.729507e+05     1154  2.456371e+06  0.361529\n",
       "1  公路自行车      头盔   5960  2.253356e+05     2051  4.659746e+06  0.344128\n",
       "2  公路自行车   车胎和内胎   8490  2.455293e+05     1450  3.370199e+06  0.170789\n",
       "3  公路自行车   山地自行车   4089  9.952760e+06     2053  4.660287e+06  0.502079\n",
       "4  公路自行车      帽子   2132  1.968810e+04      673  1.447043e+06  0.315666\n",
       "5  公路自行车  水壶和水壶架   4548  5.679819e+04     1590  3.486133e+06  0.349604"
      ]
     },
     "execution_count": 12,
     "metadata": {},
     "output_type": "execute_result"
    }
   ],
   "source": [
    "new_df"
   ]
  },
  {
   "cell_type": "code",
   "execution_count": 13,
   "metadata": {},
   "outputs": [
    {
     "data": {
      "text/plain": [
       "<matplotlib.collections.PathCollection at 0x1c7e2bdd948>"
      ]
     },
     "execution_count": 13,
     "metadata": {},
     "output_type": "execute_result"
    },
    {
     "data": {
      "image/png": "[encoded data removed]",
      "text/plain": [
       "<Figure size 432x288 with 1 Axes>"
      ]
     },
     "metadata": {
      "needs_background": "light"
     },
     "output_type": "display_data"
    }
   ],
   "source": [
    "plt.scatter(new_df[\"产品B销售额\"],new_df[\"关联客户比\"])"
   ]
  },
  {
   "cell_type": "code",
   "execution_count": null,
   "metadata": {},
   "outputs": [],
   "source": []
  }
 ],
 "metadata": {
  "kernelspec": {
   "display_name": "Python 3",
   "language": "python",
   "name": "python3"
  },
  "language_info": {
   "codemirror_mode": {
    "name": "ipython",
    "version": 3
   },
   "file_extension": ".py",
   "mimetype": "text/x-python",
   "name": "python",
   "nbconvert_exporter": "python",
   "pygments_lexer": "ipython3",
   "version": "3.7.6"
  }
 },
 "nbformat": 4,
 "nbformat_minor": 4
}
